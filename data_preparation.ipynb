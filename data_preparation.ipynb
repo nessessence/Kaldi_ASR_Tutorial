{
 "cells": [
  {
   "cell_type": "code",
   "execution_count": 1,
   "metadata": {},
   "outputs": [
    {
     "name": "stdout",
     "output_type": "stream",
     "text": [
      "6246\n"
     ]
    }
   ],
   "source": [
    "import os\n",
    "import pandas as pd\n",
    "import random\n",
    "from tqdm import tqdm\n",
    "import re\n",
    "\n",
    "print(len(os.listdir('VF_Main_16kHz/')))"
   ]
  },
  {
   "cell_type": "code",
   "execution_count": 2,
   "metadata": {},
   "outputs": [],
   "source": [
    "docker_path = '/mnt/data/'"
   ]
  },
  {
   "cell_type": "code",
   "execution_count": 10,
   "metadata": {},
   "outputs": [
    {
     "name": "stderr",
     "output_type": "stream",
     "text": [
      "100%|██████████| 6246/6246 [00:00<00:00, 969277.15it/s]"
     ]
    },
    {
     "name": "stdout",
     "output_type": "stream",
     "text": [
      "1235\n",
      "2164\n"
     ]
    },
    {
     "name": "stderr",
     "output_type": "stream",
     "text": [
      "\n"
     ]
    }
   ],
   "source": [
    "all_spk = {}; anonymous = 0\n",
    "\n",
    "for folder in tqdm(os.listdir('VF_Main_16kHz/')):\n",
    "    spk = folder[:folder.find('-')]\n",
    "    if spk == 'anonymous' or spk == 'jaiger': anonymous +=  1\n",
    "    if spk not in all_spk:\n",
    "        all_spk[spk] = 1\n",
    "    else:\n",
    "        all_spk[spk] += 1\n",
    "print(len(all_spk))\n",
    "print(anonymous)"
   ]
  },
  {
   "cell_type": "code",
   "execution_count": 60,
   "metadata": {},
   "outputs": [],
   "source": [
    "all_spk = list(all_spk.keys())\n",
    "selected_spk = []\n",
    "\n",
    "def select_spk(num_spk):\n",
    "    spk = []\n",
    "    for i in range(num_spk):\n",
    "        rand_spk = random.choice(all_spk)\n",
    "        while rand_spk in selected_spk:\n",
    "            rand_spk = random.choice(all_spk)\n",
    "        spk.append(rand_spk)\n",
    "        selected_spk.append(rand_spk)\n",
    "    return spk"
   ]
  },
  {
   "cell_type": "code",
   "execution_count": 61,
   "metadata": {},
   "outputs": [
    {
     "data": {
      "text/plain": [
       "True"
      ]
     },
     "execution_count": 61,
     "metadata": {},
     "output_type": "execute_result"
    }
   ],
   "source": [
    "train_spk = select_spk(100)\n",
    "test_spk = select_spk(20)\n",
    "len(set(train_spk).intersection(test_spk)) == 0"
   ]
  },
  {
   "cell_type": "code",
   "execution_count": 62,
   "metadata": {},
   "outputs": [],
   "source": [
    "prompt_file = 'prompts-original'\n",
    "\n",
    "def get_df(select_spk):\n",
    "    spk_id = []\n",
    "    utt_id = []\n",
    "    text = []\n",
    "    wav_path = []\n",
    "    no_wav = 0\n",
    "    no_prompt = 0\n",
    "    for folder in tqdm(os.listdir('VF_Main_16kHz/')):\n",
    "        speaker = folder[:folder.find('-')]\n",
    "        if speaker not in select_spk:\n",
    "            continue\n",
    "        waves = []\n",
    "        if 'wav' not in os.listdir(os.path.join('VF_Main_16kHz/', folder)):\n",
    "            no_wav += 1 \n",
    "            continue\n",
    "        if prompt_file not in os.listdir(os.path.join('VF_Main_16kHz/', folder, 'etc/')):\n",
    "            no_prompt += 1\n",
    "            continue\n",
    "        \n",
    "        prompts = [line.rstrip('\\n') for line in open(os.path.join('VF_Main_16kHz/', folder, 'etc/', prompt_file))]\n",
    "        #print(\"test\")\n",
    "        for prompt in prompts:\n",
    "            if prompt[:prompt.find(' ')] == '':\n",
    "                continue\n",
    "            start_idx = prompt.find('/') + 1 if '/' in prompt[:prompt.find(' ')] else 0\n",
    "            waves.append(prompt[start_idx:prompt.find(' ')])\n",
    "            #if len(prompt[start_idx:prompt.find(' ')]) > 11:\n",
    "                #print(prompt[start_idx:prompt.find(' ')])\n",
    "                #print(prompt)\n",
    "            clean_text = prompt[prompt.find(' '):].strip().upper()\n",
    "            clean_text = re.sub(r\"[^\\w\\d's]+\",' ',clean_text)\n",
    "            #print(clean_text)\n",
    "            #print(clean_text[clean_text.find(' '):])\n",
    "            text.append(clean_text)\n",
    "\n",
    "        for wav in waves:\n",
    "            local_path = os.path.join('VF_Main_16kHz/', folder, 'wav/', wav + '.wav')\n",
    "            if not os.path.isfile(local_path):\n",
    "                print(local_path)\n",
    "            wav_path.append(os.path.join(docker_path, local_path))\n",
    "            utt_id.append(folder + '_' + wav)\n",
    "            spk_id.append(speaker)\n",
    "    print(\"no prompt: \",no_prompt)\n",
    "    print(\"no wav: \",no_wav)\n",
    "    print('All folders:', len(os.listdir('VF_Main_16kHz/')))\n",
    "    print('Other extensions:', no_wav)\n",
    "    print('No prompts-original:', no_prompt)\n",
    "    print(len(spk_id), len(utt_id), len(text), len(wav_path))\n",
    "    return pd.DataFrame({'spk_id': spk_id, 'utt_id': utt_id, 'text': text, 'wav_path': wav_path})  "
   ]
  },
  {
   "cell_type": "code",
   "execution_count": null,
   "metadata": {},
   "outputs": [],
   "source": []
  },
  {
   "cell_type": "code",
   "execution_count": 63,
   "metadata": {},
   "outputs": [
    {
     "name": "stderr",
     "output_type": "stream",
     "text": [
      "100%|██████████| 6246/6246 [00:00<00:00, 14439.12it/s]"
     ]
    },
    {
     "name": "stdout",
     "output_type": "stream",
     "text": [
      "no prompt:  0\n",
      "no wav:  1\n",
      "All folders: 6246\n",
      "Other extensions: 1\n",
      "No prompts-original: 0\n",
      "5790 5790 5790 5790\n"
     ]
    },
    {
     "name": "stderr",
     "output_type": "stream",
     "text": [
      "\n"
     ]
    },
    {
     "data": {
      "text/html": [
       "<div>\n",
       "<style scoped>\n",
       "    .dataframe tbody tr th:only-of-type {\n",
       "        vertical-align: middle;\n",
       "    }\n",
       "\n",
       "    .dataframe tbody tr th {\n",
       "        vertical-align: top;\n",
       "    }\n",
       "\n",
       "    .dataframe thead th {\n",
       "        text-align: right;\n",
       "    }\n",
       "</style>\n",
       "<table border=\"1\" class=\"dataframe\">\n",
       "  <thead>\n",
       "    <tr style=\"text-align: right;\">\n",
       "      <th></th>\n",
       "      <th>spk_id</th>\n",
       "      <th>utt_id</th>\n",
       "      <th>text</th>\n",
       "      <th>wav_path</th>\n",
       "    </tr>\n",
       "  </thead>\n",
       "  <tbody>\n",
       "    <tr>\n",
       "      <th>0</th>\n",
       "      <td>Aaron</td>\n",
       "      <td>Aaron-20080318-kdl_b0019</td>\n",
       "      <td>HIS SLIM HANDS GRIPPED THE EDGES OF THE TABLE</td>\n",
       "      <td>/mnt/data/VF_Main_16kHz/Aaron-20080318-kdl/wav...</td>\n",
       "    </tr>\n",
       "    <tr>\n",
       "      <th>1</th>\n",
       "      <td>Aaron</td>\n",
       "      <td>Aaron-20080318-kdl_b0020</td>\n",
       "      <td>HE MADE NO REPLY AS HE WAITED FOR WHITTEMORE T...</td>\n",
       "      <td>/mnt/data/VF_Main_16kHz/Aaron-20080318-kdl/wav...</td>\n",
       "    </tr>\n",
       "    <tr>\n",
       "      <th>2</th>\n",
       "      <td>Aaron</td>\n",
       "      <td>Aaron-20080318-kdl_b0021</td>\n",
       "      <td>PHILIP DROPPED BACK INTO HIS CHAIR</td>\n",
       "      <td>/mnt/data/VF_Main_16kHz/Aaron-20080318-kdl/wav...</td>\n",
       "    </tr>\n",
       "    <tr>\n",
       "      <th>3</th>\n",
       "      <td>Aaron</td>\n",
       "      <td>Aaron-20080318-kdl_b0022</td>\n",
       "      <td>IF I WAS OUT OF THE GAME IT WOULD BE EASILY MADE</td>\n",
       "      <td>/mnt/data/VF_Main_16kHz/Aaron-20080318-kdl/wav...</td>\n",
       "    </tr>\n",
       "    <tr>\n",
       "      <th>4</th>\n",
       "      <td>Aaron</td>\n",
       "      <td>Aaron-20080318-kdl_b0023</td>\n",
       "      <td>MACDOUGALL MY ENGINEER BELIEVES IT</td>\n",
       "      <td>/mnt/data/VF_Main_16kHz/Aaron-20080318-kdl/wav...</td>\n",
       "    </tr>\n",
       "  </tbody>\n",
       "</table>\n",
       "</div>"
      ],
      "text/plain": [
       "  spk_id                    utt_id  \\\n",
       "0  Aaron  Aaron-20080318-kdl_b0019   \n",
       "1  Aaron  Aaron-20080318-kdl_b0020   \n",
       "2  Aaron  Aaron-20080318-kdl_b0021   \n",
       "3  Aaron  Aaron-20080318-kdl_b0022   \n",
       "4  Aaron  Aaron-20080318-kdl_b0023   \n",
       "\n",
       "                                                text  \\\n",
       "0     HIS SLIM HANDS GRIPPED THE EDGES OF THE TABLE    \n",
       "1  HE MADE NO REPLY AS HE WAITED FOR WHITTEMORE T...   \n",
       "2                PHILIP DROPPED BACK INTO HIS CHAIR    \n",
       "3  IF I WAS OUT OF THE GAME IT WOULD BE EASILY MADE    \n",
       "4                MACDOUGALL MY ENGINEER BELIEVES IT    \n",
       "\n",
       "                                            wav_path  \n",
       "0  /mnt/data/VF_Main_16kHz/Aaron-20080318-kdl/wav...  \n",
       "1  /mnt/data/VF_Main_16kHz/Aaron-20080318-kdl/wav...  \n",
       "2  /mnt/data/VF_Main_16kHz/Aaron-20080318-kdl/wav...  \n",
       "3  /mnt/data/VF_Main_16kHz/Aaron-20080318-kdl/wav...  \n",
       "4  /mnt/data/VF_Main_16kHz/Aaron-20080318-kdl/wav...  "
      ]
     },
     "execution_count": 63,
     "metadata": {},
     "output_type": "execute_result"
    }
   ],
   "source": [
    "train_df = get_df(train_spk)\n",
    "train_df = train_df.sort_values(by=['spk_id', 'utt_id'])\n",
    "train_df = train_df.reset_index(drop=True)\n",
    "train_df.head()"
   ]
  },
  {
   "cell_type": "code",
   "execution_count": 64,
   "metadata": {},
   "outputs": [
    {
     "name": "stderr",
     "output_type": "stream",
     "text": [
      "100%|██████████| 6246/6246 [00:00<00:00, 55453.86it/s]"
     ]
    },
    {
     "name": "stdout",
     "output_type": "stream",
     "text": [
      "no prompt:  10\n",
      "no wav:  71\n",
      "All folders: 6246\n",
      "Other extensions: 71\n",
      "No prompts-original: 10\n",
      "732 732 732 732\n"
     ]
    },
    {
     "name": "stderr",
     "output_type": "stream",
     "text": [
      "\n"
     ]
    },
    {
     "data": {
      "text/html": [
       "<div>\n",
       "<style scoped>\n",
       "    .dataframe tbody tr th:only-of-type {\n",
       "        vertical-align: middle;\n",
       "    }\n",
       "\n",
       "    .dataframe tbody tr th {\n",
       "        vertical-align: top;\n",
       "    }\n",
       "\n",
       "    .dataframe thead th {\n",
       "        text-align: right;\n",
       "    }\n",
       "</style>\n",
       "<table border=\"1\" class=\"dataframe\">\n",
       "  <thead>\n",
       "    <tr style=\"text-align: right;\">\n",
       "      <th></th>\n",
       "      <th>spk_id</th>\n",
       "      <th>utt_id</th>\n",
       "      <th>text</th>\n",
       "      <th>wav_path</th>\n",
       "    </tr>\n",
       "  </thead>\n",
       "  <tbody>\n",
       "    <tr>\n",
       "      <th>0</th>\n",
       "      <td>Blenderkitty</td>\n",
       "      <td>Blenderkitty-20090615-qcv_b0419</td>\n",
       "      <td>YOUR FATHER'S FIFTH COMMAND HE NODDED</td>\n",
       "      <td>/mnt/data/VF_Main_16kHz/Blenderkitty-20090615-...</td>\n",
       "    </tr>\n",
       "    <tr>\n",
       "      <th>1</th>\n",
       "      <td>Blenderkitty</td>\n",
       "      <td>Blenderkitty-20090615-qcv_b0420</td>\n",
       "      <td>ON OCCASION ON THIS TRAVERSE THE CAPE VERDE IS...</td>\n",
       "      <td>/mnt/data/VF_Main_16kHz/Blenderkitty-20090615-...</td>\n",
       "    </tr>\n",
       "    <tr>\n",
       "      <th>2</th>\n",
       "      <td>Blenderkitty</td>\n",
       "      <td>Blenderkitty-20090615-qcv_b0421</td>\n",
       "      <td>SHE IS ESSENTIALLY THE LIFE GIVING LIFE CONSER...</td>\n",
       "      <td>/mnt/data/VF_Main_16kHz/Blenderkitty-20090615-...</td>\n",
       "    </tr>\n",
       "    <tr>\n",
       "      <th>3</th>\n",
       "      <td>Blenderkitty</td>\n",
       "      <td>Blenderkitty-20090615-qcv_b0422</td>\n",
       "      <td>THIS WAS WHEN THE EXPLOSION OCCURRED</td>\n",
       "      <td>/mnt/data/VF_Main_16kHz/Blenderkitty-20090615-...</td>\n",
       "    </tr>\n",
       "    <tr>\n",
       "      <th>4</th>\n",
       "      <td>Blenderkitty</td>\n",
       "      <td>Blenderkitty-20090615-qcv_b0423</td>\n",
       "      <td>ALSO AT REGULAR INTERVALS HE WOULD MUTTER</td>\n",
       "      <td>/mnt/data/VF_Main_16kHz/Blenderkitty-20090615-...</td>\n",
       "    </tr>\n",
       "  </tbody>\n",
       "</table>\n",
       "</div>"
      ],
      "text/plain": [
       "         spk_id                           utt_id  \\\n",
       "0  Blenderkitty  Blenderkitty-20090615-qcv_b0419   \n",
       "1  Blenderkitty  Blenderkitty-20090615-qcv_b0420   \n",
       "2  Blenderkitty  Blenderkitty-20090615-qcv_b0421   \n",
       "3  Blenderkitty  Blenderkitty-20090615-qcv_b0422   \n",
       "4  Blenderkitty  Blenderkitty-20090615-qcv_b0423   \n",
       "\n",
       "                                                text  \\\n",
       "0             YOUR FATHER'S FIFTH COMMAND HE NODDED    \n",
       "1  ON OCCASION ON THIS TRAVERSE THE CAPE VERDE IS...   \n",
       "2  SHE IS ESSENTIALLY THE LIFE GIVING LIFE CONSER...   \n",
       "3              THIS WAS WHEN THE EXPLOSION OCCURRED    \n",
       "4         ALSO AT REGULAR INTERVALS HE WOULD MUTTER    \n",
       "\n",
       "                                            wav_path  \n",
       "0  /mnt/data/VF_Main_16kHz/Blenderkitty-20090615-...  \n",
       "1  /mnt/data/VF_Main_16kHz/Blenderkitty-20090615-...  \n",
       "2  /mnt/data/VF_Main_16kHz/Blenderkitty-20090615-...  \n",
       "3  /mnt/data/VF_Main_16kHz/Blenderkitty-20090615-...  \n",
       "4  /mnt/data/VF_Main_16kHz/Blenderkitty-20090615-...  "
      ]
     },
     "execution_count": 64,
     "metadata": {},
     "output_type": "execute_result"
    }
   ],
   "source": [
    "test_df = get_df(test_spk)\n",
    "test_df = test_df.sort_values(by=['spk_id', 'utt_id'])\n",
    "test_df = test_df.reset_index(drop=True)\n",
    "test_df.head()"
   ]
  },
  {
   "cell_type": "code",
   "execution_count": 65,
   "metadata": {},
   "outputs": [],
   "source": [
    "# Note : *************************************this code is \"append mode\"\n",
    "def data_prep(df, mode):\n",
    "    os.makedirs(os.path.join('data', mode), exist_ok=True)\n",
    "    with open(os.path.join('data', mode, 'text'), 'a') as file:\n",
    "        for _, row in df.iterrows():\n",
    "            content = row['utt_id'] + ' ' + row['text'] + '\\n'\n",
    "            file.write(content)\n",
    "    with open(os.path.join('data', mode, 'wav.scp'), 'a') as file:\n",
    "        for _, row in df.iterrows():\n",
    "            content = row['utt_id'] + ' ' + row['wav_path'] + '\\n'\n",
    "            file.write(content)\n",
    "    with open(os.path.join('data', mode, 'utt2spk'), 'a') as file:\n",
    "        for _, row in df.iterrows():\n",
    "            content = row['utt_id'] + ' ' + row['spk_id'] + '\\n'\n",
    "    with open(os.path.join('data', mode, 'puretext.txt'), 'a') as file:\n",
    "        for _, row in df.iterrows():\n",
    "            content = row['text'] + '\\n'\n",
    "            file.write(content)"
   ]
  },
  {
   "cell_type": "code",
   "execution_count": 66,
   "metadata": {},
   "outputs": [],
   "source": [
    "data_prep(train_df, 'train')"
   ]
  },
  {
   "cell_type": "code",
   "execution_count": 67,
   "metadata": {},
   "outputs": [],
   "source": [
    "data_prep(test_df, 'test')"
   ]
  },
  {
   "cell_type": "code",
   "execution_count": null,
   "metadata": {},
   "outputs": [],
   "source": []
  },
  {
   "cell_type": "code",
   "execution_count": null,
   "metadata": {},
   "outputs": [],
   "source": []
  }
 ],
 "metadata": {
  "kernelspec": {
   "display_name": "Python 3",
   "language": "python",
   "name": "python3"
  },
  "language_info": {
   "codemirror_mode": {
    "name": "ipython",
    "version": 3
   },
   "file_extension": ".py",
   "mimetype": "text/x-python",
   "name": "python",
   "nbconvert_exporter": "python",
   "pygments_lexer": "ipython3",
   "version": "3.7.4"
  }
 },
 "nbformat": 4,
 "nbformat_minor": 2
}
